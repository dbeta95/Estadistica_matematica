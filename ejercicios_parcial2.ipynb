{
 "cells": [
  {
   "cell_type": "markdown",
   "metadata": {},
   "source": [
    "# Experimento de probabilidades"
   ]
  },
  {
   "cell_type": "code",
   "execution_count": 2,
   "metadata": {},
   "outputs": [],
   "source": [
    "import numpy as np\n",
    "import matplotlib.pyplot as plt\n",
    "import seaborn as sns\n",
    "from scipy.optimize import minimize\n",
    "from scipy.stats import poisson, binom, randint\n",
    "import math\n"
   ]
  },
  {
   "cell_type": "code",
   "execution_count": 3,
   "metadata": {},
   "outputs": [
    {
     "data": {
      "text/plain": [
       "array([6.63835206])"
      ]
     },
     "execution_count": 3,
     "metadata": {},
     "output_type": "execute_result"
    }
   ],
   "source": [
    "def ob_func(lmbd):\n",
    "\n",
    "    return np.abs(0.01 - np.exp(-lmbd)*(1+lmbd))\n",
    "\n",
    "res = minimize(ob_func, [1])\n",
    "res.x"
   ]
  },
  {
   "cell_type": "code",
   "execution_count": 23,
   "metadata": {},
   "outputs": [
    {
     "data": {
      "text/plain": [
       "0.38403934516693705"
      ]
     },
     "execution_count": 23,
     "metadata": {},
     "output_type": "execute_result"
    }
   ],
   "source": [
    "1 - sum(poisson.pmf(range(0,6),5))\n",
    "1 - poisson.cdf(5,5)"
   ]
  },
  {
   "cell_type": "code",
   "execution_count": 4,
   "metadata": {},
   "outputs": [
    {
     "data": {
      "text/plain": [
       "0.15120388277664784"
      ]
     },
     "execution_count": 4,
     "metadata": {},
     "output_type": "execute_result"
    }
   ],
   "source": [
    "poisson.cdf(3,6)"
   ]
  },
  {
   "cell_type": "code",
   "execution_count": 26,
   "metadata": {},
   "outputs": [
    {
     "name": "stdout",
     "output_type": "stream",
     "text": [
      "0.4015578526199502\n"
     ]
    },
    {
     "data": {
      "text/plain": [
       "0.40155785261995003"
      ]
     },
     "execution_count": 26,
     "metadata": {},
     "output_type": "execute_result"
    }
   ],
   "source": [
    "print(poisson.cdf(8,6)-poisson.cdf(5,6))\n",
    "sum(poisson.pmf(range(6,9),6))"
   ]
  },
  {
   "cell_type": "code",
   "execution_count": 31,
   "metadata": {},
   "outputs": [
    {
     "name": "stdout",
     "output_type": "stream",
     "text": [
      "0.0005530843701478336\n"
     ]
    },
    {
     "data": {
      "text/plain": [
       "0.0005530843701478336"
      ]
     },
     "execution_count": 31,
     "metadata": {},
     "output_type": "execute_result"
    }
   ],
   "source": [
    "\n",
    "print(poisson.pmf(0,7.5))\n",
    "np.exp(-7.5)\n"
   ]
  },
  {
   "cell_type": "code",
   "execution_count": 32,
   "metadata": {},
   "outputs": [
    {
     "data": {
      "text/plain": [
       "0.013695268598382881"
      ]
     },
     "execution_count": 32,
     "metadata": {},
     "output_type": "execute_result"
    }
   ],
   "source": [
    "1 - poisson.cdf(10,5)"
   ]
  },
  {
   "cell_type": "code",
   "execution_count": 34,
   "metadata": {},
   "outputs": [
    {
     "data": {
      "text/plain": [
       "0.08297091003146029"
      ]
     },
     "execution_count": 34,
     "metadata": {},
     "output_type": "execute_result"
    }
   ],
   "source": [
    "1 - poisson.cdf(20,15)"
   ]
  },
  {
   "cell_type": "code",
   "execution_count": 35,
   "metadata": {},
   "outputs": [
    {
     "data": {
      "text/plain": [
       "0.22107420155444113"
      ]
     },
     "execution_count": 35,
     "metadata": {},
     "output_type": "execute_result"
    }
   ],
   "source": [
    "poisson.cdf(16,20)"
   ]
  },
  {
   "cell_type": "code",
   "execution_count": 41,
   "metadata": {},
   "outputs": [
    {
     "data": {
      "text/plain": [
       "1648.7078246039234"
      ]
     },
     "execution_count": 41,
     "metadata": {},
     "output_type": "execute_result"
    }
   ],
   "source": [
    "np.pi * np.power(0.1,2) * 640 *82"
   ]
  },
  {
   "cell_type": "code",
   "execution_count": 46,
   "metadata": {},
   "outputs": [
    {
     "data": {
      "text/plain": [
       "0.00012217776925891965"
      ]
     },
     "execution_count": 46,
     "metadata": {},
     "output_type": "execute_result"
    }
   ],
   "source": [
    "poisson.pmf(10,10) * binom.pmf(10,10,0.5)"
   ]
  },
  {
   "cell_type": "code",
   "execution_count": 48,
   "metadata": {},
   "outputs": [
    {
     "data": {
      "text/plain": [
       "0.01813278870782187"
      ]
     },
     "execution_count": 48,
     "metadata": {},
     "output_type": "execute_result"
    }
   ],
   "source": [
    "np.exp(-5)*np.power(5,10)/math.factorial(10)"
   ]
  },
  {
   "cell_type": "markdown",
   "metadata": {},
   "source": [
    "## Clase 8"
   ]
  },
  {
   "cell_type": "markdown",
   "metadata": {},
   "source": [
    "Equivalencias con los ejercicios de uniforme discreta en R"
   ]
  },
  {
   "cell_type": "markdown",
   "metadata": {},
   "source": [
    "1. $P(2), P(10), P(100)$"
   ]
  },
  {
   "cell_type": "code",
   "execution_count": 6,
   "metadata": {},
   "outputs": [
    {
     "name": "stdout",
     "output_type": "stream",
     "text": [
      "0.01\n",
      "0.01\n",
      "0.01\n"
     ]
    }
   ],
   "source": [
    "print(randint.pmf(2,1,101))\n",
    "print(randint.pmf(10,1,101))\n",
    "print(randint.pmf(100,1,101))"
   ]
  },
  {
   "cell_type": "markdown",
   "metadata": {},
   "source": [
    "2. $P(X\\leq80)$, $P(X>90)$ y $P(50<X\\leq70$)"
   ]
  },
  {
   "cell_type": "code",
   "execution_count": 14,
   "metadata": {},
   "outputs": [
    {
     "name": "stdout",
     "output_type": "stream",
     "text": [
      "0.8\n",
      "0.09999999999999998\n",
      "0.09999999999999998\n",
      "0.19999999999999996\n"
     ]
    }
   ],
   "source": [
    "print(randint.cdf(80,1,101))\n",
    "print(1 - randint.cdf(90,1,101))\n",
    "print(randint.sf(90,1,101))\n",
    "print(randint.cdf(70,1,101) -randint.cdf(50,1,101))"
   ]
  },
  {
   "cell_type": "markdown",
   "metadata": {},
   "source": [
    "3. $P(X \\leq c) = 0.94, P(X \\leq d) = 0.5, P(X > e) = 0.10$"
   ]
  },
  {
   "cell_type": "code",
   "execution_count": 15,
   "metadata": {},
   "outputs": [
    {
     "name": "stdout",
     "output_type": "stream",
     "text": [
      "94.0\n",
      "50.0\n",
      "90.0\n"
     ]
    }
   ],
   "source": [
    "print(randint.ppf(0.94,1,101))\n",
    "print(randint.ppf(0.5,1,101))\n",
    "print(randint.isf(0.10,1,101))"
   ]
  },
  {
   "cell_type": "markdown",
   "metadata": {},
   "source": [
    "4. Simular datos y crear un histograma"
   ]
  },
  {
   "cell_type": "code",
   "execution_count": 22,
   "metadata": {},
   "outputs": [
    {
     "data": {
      "text/plain": [
       "(array([122.,   0., 100.,   0.,  84.,   0., 113.,   0.,  86.,   0., 114.,\n",
       "          0.,  91.,   0., 101.,   0., 110.,   0., 111.,   0.,  88.,   0.,\n",
       "         87.,   0., 113.,   0., 108.,   0., 101.,   0., 100.,   0., 107.,\n",
       "          0.,  98.,   0., 102.,   0.,  92.,   0.,  79.,   0., 112.,   0.,\n",
       "        104.,   0., 109.,   0., 110.,   0.,  95.,   0., 122.,   0., 107.,\n",
       "          0., 104.,   0.,  99.,   0.,  90.,   0.,  92.,   0., 108.,   0.,\n",
       "        102.,   0., 108.,   0.,  87.,   0.,  93.,   0.,  85.,   0., 100.,\n",
       "          0.,  81.,   0.,  79.,   0., 121.,   0., 104.,   0., 109.,   0.,\n",
       "         91.,   0., 111.,   0., 114.,   0., 100.,   0., 101.,   0., 107.,\n",
       "          0.,   0.,  84.,   0., 100.,   0.,  79.,   0.,  92.,   0.,  96.,\n",
       "          0.,  87.,   0.,  94.,   0.,  87.,   0.,  95.,   0., 111.,   0.,\n",
       "        109.,   0., 116.,   0., 100.,   0., 114.,   0.,  90.,   0.,  98.,\n",
       "          0.,  90.,   0.,  82.,   0., 106.,   0.,  88.,   0., 100.,   0.,\n",
       "        100.,   0., 104.,   0.,  89.,   0.,  97.,   0., 109.,   0., 119.,\n",
       "          0., 119.,   0., 120.,   0., 105.,   0.,  98.,   0.,  84.,   0.,\n",
       "         88.,   0.,  99.,   0.,  91.,   0., 110.,   0.,  96.,   0.,  95.,\n",
       "          0.,  82.,   0., 117.,   0., 115.,   0., 108.,   0.,  97.,   0.,\n",
       "        103.,   0.,  97.,   0., 114.,   0.,  79.,   0., 105.,   0.,  94.,\n",
       "          0.,  96.]),\n",
       " array([  1.   ,   1.495,   1.99 ,   2.485,   2.98 ,   3.475,   3.97 ,\n",
       "          4.465,   4.96 ,   5.455,   5.95 ,   6.445,   6.94 ,   7.435,\n",
       "          7.93 ,   8.425,   8.92 ,   9.415,   9.91 ,  10.405,  10.9  ,\n",
       "         11.395,  11.89 ,  12.385,  12.88 ,  13.375,  13.87 ,  14.365,\n",
       "         14.86 ,  15.355,  15.85 ,  16.345,  16.84 ,  17.335,  17.83 ,\n",
       "         18.325,  18.82 ,  19.315,  19.81 ,  20.305,  20.8  ,  21.295,\n",
       "         21.79 ,  22.285,  22.78 ,  23.275,  23.77 ,  24.265,  24.76 ,\n",
       "         25.255,  25.75 ,  26.245,  26.74 ,  27.235,  27.73 ,  28.225,\n",
       "         28.72 ,  29.215,  29.71 ,  30.205,  30.7  ,  31.195,  31.69 ,\n",
       "         32.185,  32.68 ,  33.175,  33.67 ,  34.165,  34.66 ,  35.155,\n",
       "         35.65 ,  36.145,  36.64 ,  37.135,  37.63 ,  38.125,  38.62 ,\n",
       "         39.115,  39.61 ,  40.105,  40.6  ,  41.095,  41.59 ,  42.085,\n",
       "         42.58 ,  43.075,  43.57 ,  44.065,  44.56 ,  45.055,  45.55 ,\n",
       "         46.045,  46.54 ,  47.035,  47.53 ,  48.025,  48.52 ,  49.015,\n",
       "         49.51 ,  50.005,  50.5  ,  50.995,  51.49 ,  51.985,  52.48 ,\n",
       "         52.975,  53.47 ,  53.965,  54.46 ,  54.955,  55.45 ,  55.945,\n",
       "         56.44 ,  56.935,  57.43 ,  57.925,  58.42 ,  58.915,  59.41 ,\n",
       "         59.905,  60.4  ,  60.895,  61.39 ,  61.885,  62.38 ,  62.875,\n",
       "         63.37 ,  63.865,  64.36 ,  64.855,  65.35 ,  65.845,  66.34 ,\n",
       "         66.835,  67.33 ,  67.825,  68.32 ,  68.815,  69.31 ,  69.805,\n",
       "         70.3  ,  70.795,  71.29 ,  71.785,  72.28 ,  72.775,  73.27 ,\n",
       "         73.765,  74.26 ,  74.755,  75.25 ,  75.745,  76.24 ,  76.735,\n",
       "         77.23 ,  77.725,  78.22 ,  78.715,  79.21 ,  79.705,  80.2  ,\n",
       "         80.695,  81.19 ,  81.685,  82.18 ,  82.675,  83.17 ,  83.665,\n",
       "         84.16 ,  84.655,  85.15 ,  85.645,  86.14 ,  86.635,  87.13 ,\n",
       "         87.625,  88.12 ,  88.615,  89.11 ,  89.605,  90.1  ,  90.595,\n",
       "         91.09 ,  91.585,  92.08 ,  92.575,  93.07 ,  93.565,  94.06 ,\n",
       "         94.555,  95.05 ,  95.545,  96.04 ,  96.535,  97.03 ,  97.525,\n",
       "         98.02 ,  98.515,  99.01 ,  99.505, 100.   ]),\n",
       " <BarContainer object of 200 artists>)"
      ]
     },
     "execution_count": 22,
     "metadata": {},
     "output_type": "execute_result"
    },
    {
     "data": {
      "image/png": "[encoded data removed]",
      "text/plain": [
       "<Figure size 432x288 with 1 Axes>"
      ]
     },
     "metadata": {
      "needs_background": "light"
     },
     "output_type": "display_data"
    }
   ],
   "source": [
    "valores = randint.rvs(1,101,size=10000)\n",
    "plt.hist(valores, bins=200, color='grey')"
   ]
  },
  {
   "cell_type": "code",
   "execution_count": 24,
   "metadata": {},
   "outputs": [
    {
     "name": "stdout",
     "output_type": "stream",
     "text": [
      "2.7747746372274237e-05\n"
     ]
    },
    {
     "data": {
      "text/plain": [
       "2.7747746372274237e-05"
      ]
     },
     "execution_count": 24,
     "metadata": {},
     "output_type": "execute_result"
    }
   ],
   "source": [
    "bin_dist = binom(50,0.3)\n",
    "bin_dist.pmf(3)\n"
   ]
  }
 ],
 "metadata": {
  "interpreter": {
   "hash": "aecd030d4c8316a52bf122072e28f84bcc79844c2684e041fef2e3f1d9f59078"
  },
  "kernelspec": {
   "display_name": "Python 3.10.2 64-bit",
   "language": "python",
   "name": "python3"
  },
  "language_info": {
   "codemirror_mode": {
    "name": "ipython",
    "version": 3
   },
   "file_extension": ".py",
   "mimetype": "text/x-python",
   "name": "python",
   "nbconvert_exporter": "python",
   "pygments_lexer": "ipython3",
   "version": "3.10.2"
  },
  "orig_nbformat": 4
 },
 "nbformat": 4,
 "nbformat_minor": 2
}
